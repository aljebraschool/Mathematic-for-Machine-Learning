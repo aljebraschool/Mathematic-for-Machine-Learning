{
 "cells": [
  {
   "cell_type": "markdown",
   "id": "4caafec3",
   "metadata": {},
   "source": [
    "# Loaded dice \n",
    "\n",
    "Welcome to the second assignment in the course Probability and Statistics for Machine Learning and Data Science! In this quiz-like assignment you will test your intuition about the concepts covered in the lectures by taking the example with the dice to the next level. \n",
    "\n",
    "**This assignment can be completed with just pencil and paper, or even your intuition about probability, but in many questions using the skills you're developing as a programmer may help**. "
   ]
  },
  {
   "cell_type": "markdown",
   "id": "3bff9c20",
   "metadata": {},
   "source": [
    "## 1 - Introduction\n",
    "\n",
    "You will be presented with 11 questions regarding a several dice games. Sometimes the dice is loaded, sometimes it is not. You will have clear instructions for each exercise.\n",
    "\n",
    "### 1.1 How to go through the assignment\n",
    "\n",
    "In each exercise you there will be a question about throwing some dice that may or may not be loaded. You will have to answer questions about the results of each scenario, such as calculating the expected value of the dice throw or selecting the graph that best represents the distribution of outcomes. \n",
    "\n",
    "In any case, **you will be able to solve the exercise with one of the following methods:**\n",
    "\n",
    "- **By hand:** You may make your calculations by hand, using the theory you have developed in the lectures.\n",
    "- **Using Python:** You may use the empty block of code provided to make computations and simulations, to obtain the result.\n",
    "\n",
    "After each exercise you will save your solution by running a special code cell and adding your answer. The cells contain a single line of code in the format `utils.exercise_1()` which will launch the interface in which you can save your answer. **You will save your responses to each exercise as you go, but you won't submit all your responses for grading until you submit this assignment at the end.**\n",
    "\n",
    "Let's go over an example! Before, let's import the necessary libraries."
   ]
  },
  {
   "cell_type": "markdown",
   "id": "3d256624",
   "metadata": {},
   "source": [
    "## 2 - Importing the libraries"
   ]
  },
  {
   "cell_type": "code",
   "execution_count": 10,
   "id": "da0fcf2f",
   "metadata": {},
   "outputs": [],
   "source": [
    "import numpy as np\n",
    "import pandas as pd\n",
    "import seaborn as sns\n",
    "import matplotlib.pyplot as plt\n",
    "import utils"
   ]
  },
  {
   "cell_type": "markdown",
   "id": "e1637bc9",
   "metadata": {},
   "source": [
    "## 3 - A worked example on how to complete this assignment.\n",
    "\n",
    "Now let's go over one example question, so you understand how to go through the assignment.\n",
    "\n",
    "### 3.1 Example question\n",
    "\n",
    "Question: Given a 6-sided fair dice, you throw it two times and save the result. What is the probability that the sum of your two throws is greater than 5? (Give your result with 1 decimal place).\n",
    "\n",
    "After the question, you will see the following block of code."
   ]
  },
  {
   "cell_type": "code",
   "execution_count": 80,
   "id": "c789233e",
   "metadata": {},
   "outputs": [
    {
     "name": "stdout",
     "output_type": "stream",
     "text": [
      "The probability of this simulation is: 0.7203571428571428\n"
     ]
    }
   ],
   "source": [
    "# You can use this cell for your calculations (not graded)\n",
    "\n",
    "dice_size = 6 #size of dice\n",
    "\n",
    "#generate size sided dice\n",
    "dice = np.array([i for i in range(1, dice_size + 1)])\n",
    "\n",
    "dice\n",
    "\n",
    "#np.random.seed(42) # for reproducibility\n",
    "\n",
    "num_rolls = 70000  # number of rolls\n",
    "\n",
    "#using list comprehension, roll a fair dice 1000 times to get a random number (1 - 6)\n",
    "roll_1 = np.array([np.random.choice(dice) for _ in range(num_rolls)])\n",
    "\n",
    "roll_2 = np.array([np.random.choice(dice) for _ in range(num_rolls)])\n",
    "\n",
    "#sum the output\n",
    "sum_of_throws = roll_1 + roll_2\n",
    "\n",
    "#print(sum_of_throws)\n",
    "\n",
    "#obtain the values that are greater than 5\n",
    "grater_than_5 = np.where(sum_of_throws > 5)\n",
    "\n",
    "#print your result\n",
    "print(f'The probability of this simulation is: {len(grater_than_5[0]) / len(sum_of_throws)}')\n"
   ]
  },
  {
   "cell_type": "markdown",
   "id": "02528065",
   "metadata": {},
   "source": [
    "You may use it as you wish to solve the exercise. Or you can just ignore it and use pencil and pen to solve. It is up to you! **You will only save your final answer**. \n",
    "\n",
    "### 3.2 Solving using simulations in Python\n",
    "\n",
    "Let's solve this question in both ways. First, using Python. You may check the ungraded lab Dice Simulations that appears right before this assignment to help you simulate dice throws. Remember that, to get a good approximation, you need to simulate it a lot of times! You will see why this is true in the following weeks, but this is quite intuitive."
   ]
  },
  {
   "cell_type": "code",
   "execution_count": 50,
   "id": "309a3457",
   "metadata": {},
   "outputs": [
    {
     "name": "stdout",
     "output_type": "stream",
     "text": [
      "The probability by this simulation is: 0.719\n"
     ]
    }
   ],
   "source": [
    "# You can use this cell for your calculations (not graded)\n",
    "\n",
    "# This list represents each dice side\n",
    "dice = [1,2,3,4,5,6]\n",
    "\n",
    "# The idea is to randomly choose one element from this list three times and sum them. \n",
    "# Each time we choose, it is as if we had thrown a dice and the side is the chosen number.\n",
    "# This list will store the sum for each iteration. The idea is to repeat this experiment several times.\n",
    "sum_results = []\n",
    "\n",
    "number_iterations = 1000\n",
    "\n",
    "# Setting a random seed just for reproducibility\n",
    "np.random.seed(42)\n",
    "# It will play this game number_iteration times\n",
    "for i in range(number_iterations):\n",
    "    # Throw the first dice\n",
    "    throw_1 = np.random.choice(dice)\n",
    "    # Throw the second dice\n",
    "    throw_2 = np.random.choice(dice)\n",
    "    # Sum the result\n",
    "    sum_throw = throw_1 + throw_2\n",
    "    # Append to the sum_result list\n",
    "    sum_results.append(sum_throw)\n",
    "\n",
    "# After recording all the sums, the actual probability will be very close to the proportion among every sum greater than 10 in the sum_results list.\n",
    "greater_5_count = 0\n",
    "\n",
    "for x in sum_results:\n",
    "    if x > 5:\n",
    "        greater_5_count += 1\n",
    "\n",
    "probability = greater_5_count/len(sum_results)    \n",
    "print(f\"The probability by this simulation is: {probability}\")"
   ]
  },
  {
   "cell_type": "markdown",
   "id": "37524317",
   "metadata": {},
   "source": [
    "So the result you would get, rounding in to decimal place, would be 0.7! Let's solve it \"by hand\".\n",
    "\n",
    "### 3.3 Solving using the theory\n",
    "\n",
    "When throwing two dice, there are $36$ possible outcomes:\n",
    "\n",
    "$$(1,1), (1,2), \\ldots, (6,6)$$\n",
    "\n",
    "You must count how many of them lead to a sum greater than 5. They are:\n",
    "\n",
    "* If the first throw is $1$, there are $2$ possibilities for the second throw: 5 or 6.\n",
    "* If the first throw is $2$, there are $3$ possibilities for the second throw: 4, 5 or 6.\n",
    "* If the first throw is $3$, there are $4$ possibilities for the second throw: 3, 4, 5 or 6.\n",
    "* If the first throw is $4$, there are $5$ possibilities for the second throw: 2, 3, 4, 5 or 6.\n",
    "* If the first throw is $5$, there are $6$ possibilities for the second throw: 1, 2, 3, 4, 5 or 6.\n",
    "* If the first throw is $6$, there are $6$ possibilities for the second throw: 1, 2, 3, 4, 5 or 6.\n",
    "\n",
    "So, in total there are $2 + 3 + 4 + 5 + 6 + 6 = 26$, possibilities that sum greater than 5.\n",
    "\n",
    "The probability is then $\\frac{26}{36} \\approx 0.72$. Rounding it to 1 decimal place, the result is also 0.7!\n"
   ]
  },
  {
   "cell_type": "markdown",
   "id": "29b9f3ed",
   "metadata": {},
   "source": [
    "### 3.4 Saving your answer\n",
    "\n",
    "Once you get your answer in hands, it is time to save it. Run the next code below to see what it will look like. You just add your answer as requested and click on \"Save your answer!\""
   ]
  },
  {
   "cell_type": "code",
   "execution_count": 51,
   "id": "38539358",
   "metadata": {},
   "outputs": [
    {
     "data": {
      "application/vnd.jupyter.widget-view+json": {
       "model_id": "b3551005296244b991b77c73ebac0ce9",
       "version_major": 2,
       "version_minor": 0
      },
      "text/plain": [
       "FloatText(value=0.0, description='Probability:')"
      ]
     },
     "metadata": {},
     "output_type": "display_data"
    },
    {
     "data": {
      "application/vnd.jupyter.widget-view+json": {
       "model_id": "a1b289b2514a48f3b578d4c2989e0bee",
       "version_major": 2,
       "version_minor": 0
      },
      "text/plain": [
       "Button(button_style='success', description='Save your answer!', style=ButtonStyle())"
      ]
     },
     "metadata": {},
     "output_type": "display_data"
    },
    {
     "data": {
      "application/vnd.jupyter.widget-view+json": {
       "model_id": "6f0c0850fa834523ac10c8040d849e77",
       "version_major": 2,
       "version_minor": 0
      },
      "text/plain": [
       "Output()"
      ]
     },
     "metadata": {},
     "output_type": "display_data"
    }
   ],
   "source": [
    "utils.exercise_example()"
   ]
  },
  {
   "cell_type": "markdown",
   "id": "73d4776c",
   "metadata": {},
   "source": [
    "And that's it! Once you save one question, you can go to the next one. If you want to change your solution, just run the code again and input the new solution, it will overwrite the previous one. At the end of the assignment, you will be able to check if you have forgotten to save any question. \n",
    "\n",
    "Once you finish the assignment, you may submit it as you usually would. Your most recently save answers to each exercise will then be graded."
   ]
  },
  {
   "cell_type": "markdown",
   "id": "4546a127",
   "metadata": {},
   "source": [
    "## 4 - Some concept clarifications 🎲🎲🎲\n",
    "\n",
    "During this assignment you will be presented with various scenarios that involve dice. Usually dice can have different numbers of sides and can be either fair or loaded.\n",
    "\n",
    "- A fair dice has equal probability of landing on every side.\n",
    "- A loaded dice does not have equal probability of landing on every side. Usually one (or more) sides have a greater probability of showing up than the rest.\n",
    "\n",
    "Alright, that's all your need to know to complete this assignment. Time to start rolling some dice!"
   ]
  },
  {
   "cell_type": "markdown",
   "id": "c8f09f02",
   "metadata": {},
   "source": [
    "## Exercise 1:\n",
    "\n"
   ]
  },
  {
   "cell_type": "markdown",
   "id": "3510c610",
   "metadata": {},
   "source": [
    "Given a 6-sided fair dice (all of the sides have equal probability of showing up), compute the mean and variance for the probability distribution that models said dice. The next figure shows you a visual represenatation of said distribution:\n",
    "\n",
    "<img src=\"./images/fair_dice.png\" style=\"height: 300px;\"/>\n",
    "\n",
    "**Submission considerations:**\n",
    "- Submit your answers as floating point numbers with three digits after the decimal point\n",
    "- Example: To submit the value of 1/4 enter 0.250"
   ]
  },
  {
   "cell_type": "markdown",
   "id": "5ee9b479",
   "metadata": {},
   "source": [
    "Hints: \n",
    "- You can use [np.random.choice](https://numpy.org/doc/stable/reference/random/generated/numpy.random.choice.html) to simulate a fair dice.\n",
    "- You can use [np.mean](https://numpy.org/doc/stable/reference/generated/numpy.mean.html) and [np.var](https://numpy.org/doc/stable/reference/generated/numpy.var.html) to compute the mean and variance of a numpy array."
   ]
  },
  {
   "cell_type": "code",
   "execution_count": 56,
   "id": "df437e8e",
   "metadata": {},
   "outputs": [
    {
     "name": "stdout",
     "output_type": "stream",
     "text": [
      "3.5\n",
      "2.917\n"
     ]
    }
   ],
   "source": [
    "# You can use this cell for your calculations (not graded)\n",
    "print(np.mean(dice))\n",
    "print(f'{np.var(dice):.3f}')\n"
   ]
  },
  {
   "cell_type": "code",
   "execution_count": 57,
   "id": "db9477e7",
   "metadata": {},
   "outputs": [
    {
     "data": {
      "application/vnd.jupyter.widget-view+json": {
       "model_id": "1c893b59235d458d8b5a54934914951d",
       "version_major": 2,
       "version_minor": 0
      },
      "text/plain": [
       "FloatText(value=0.0, description='Mean:')"
      ]
     },
     "metadata": {},
     "output_type": "display_data"
    },
    {
     "data": {
      "application/vnd.jupyter.widget-view+json": {
       "model_id": "51bcda4e3d994ee886067029a344a15a",
       "version_major": 2,
       "version_minor": 0
      },
      "text/plain": [
       "FloatText(value=0.0, description='Variance:')"
      ]
     },
     "metadata": {},
     "output_type": "display_data"
    },
    {
     "data": {
      "application/vnd.jupyter.widget-view+json": {
       "model_id": "5d917ae65bf8400da6e9b87627523905",
       "version_major": 2,
       "version_minor": 0
      },
      "text/plain": [
       "Button(button_style='success', description='Save your answer!', style=ButtonStyle())"
      ]
     },
     "metadata": {},
     "output_type": "display_data"
    },
    {
     "data": {
      "application/vnd.jupyter.widget-view+json": {
       "model_id": "1110823267a2455eb9f0bce555fc4d50",
       "version_major": 2,
       "version_minor": 0
      },
      "text/plain": [
       "Output()"
      ]
     },
     "metadata": {},
     "output_type": "display_data"
    }
   ],
   "source": [
    "# Run this cell to submit your answer\n",
    "utils.exercise_1()"
   ]
  },
  {
   "cell_type": "markdown",
   "id": "d43dcbbd",
   "metadata": {},
   "source": [
    "## Exercise 2:\n",
    "\n",
    "Now suppose you are throwing the dice (same dice as in the previous exercise) two times and recording the sum of each throw. Which of the following `probability mass functions` will be the one you should get?\n",
    "\n",
    "<table><tr>\n",
    "<td> <img src=\"./images/hist_sum_6_side.png\" style=\"height: 300px;\"/> </td>\n",
    "<td> <img src=\"./images/hist_sum_5_side.png\" style=\"height: 300px;\"/> </td>\n",
    "<td> <img src=\"./images/hist_sum_6_uf.png\" style=\"height: 300px;\"/> </td>\n",
    "</tr></table>\n"
   ]
  },
  {
   "cell_type": "markdown",
   "id": "605c58c0",
   "metadata": {},
   "source": [
    "Hints: \n",
    "- You can use numpy arrays to hold the results of many throws.\n",
    "- You can sum to numpy arrays by using the `+` operator like this: `sum = first_throw + second_throw`\n",
    "- To simulate multiple throws of a dice you can use list comprehension or a for loop"
   ]
  },
  {
   "cell_type": "code",
   "execution_count": 81,
   "id": "e9a8b2ed",
   "metadata": {},
   "outputs": [
    {
     "data": {
      "text/plain": [
       "(array([ 1927.,  3917.,  5885.,  7846.,  9641., 11624.,  9755.,  7658.,\n",
       "         5847.,  5900.]),\n",
       " array([ 2.,  3.,  4.,  5.,  6.,  7.,  8.,  9., 10., 11., 12.]),\n",
       " <BarContainer object of 10 artists>)"
      ]
     },
     "execution_count": 81,
     "metadata": {},
     "output_type": "execute_result"
    },
    {
     "data": {
      "image/png": "[encoded data removed]",
      "text/plain": [
       "<Figure size 640x480 with 1 Axes>"
      ]
     },
     "metadata": {},
     "output_type": "display_data"
    }
   ],
   "source": [
    "# You can use this cell for your calculations (not graded)\n",
    "\n",
    "plt.hist(sum_of_throws)"
   ]
  },
  {
   "cell_type": "code",
   "execution_count": 82,
   "id": "d4d5dcf9",
   "metadata": {},
   "outputs": [
    {
     "data": {
      "application/vnd.jupyter.widget-view+json": {
       "model_id": "261a3ca79c964e71a4b3c07979f7a44a",
       "version_major": 2,
       "version_minor": 0
      },
      "text/plain": [
       "ToggleButtons(description='Your answer:', options=('left', 'center', 'right'), value='left')"
      ]
     },
     "metadata": {},
     "output_type": "display_data"
    },
    {
     "data": {
      "application/vnd.jupyter.widget-view+json": {
       "model_id": "5728dfcb72b848fdb25740571b916f5a",
       "version_major": 2,
       "version_minor": 0
      },
      "text/plain": [
       "Button(button_style='success', description='Save your answer!', style=ButtonStyle())"
      ]
     },
     "metadata": {},
     "output_type": "display_data"
    },
    {
     "data": {
      "application/vnd.jupyter.widget-view+json": {
       "model_id": "9ed3167386194cf09e27ec12c7e62c25",
       "version_major": 2,
       "version_minor": 0
      },
      "text/plain": [
       "Output()"
      ]
     },
     "metadata": {},
     "output_type": "display_data"
    }
   ],
   "source": [
    "# Run this cell to submit your answer\n",
    "utils.exercise_2()"
   ]
  },
  {
   "cell_type": "markdown",
   "id": "adfb889c",
   "metadata": {},
   "source": [
    "## Exercise 3:\n",
    "\n",
    "Given a fair 4-sided dice, you throw it two times and record the sum. The figure on the left shows the probabilities of the dice landing on each side and the right figure the histogram of the sum. Fill out the probabilities of each sum (notice that the distribution of the sum is symetrical so you only need to input 4 values in total):\n",
    "\n",
    "<img src=\"./images/4_side_hists.png\" style=\"height: 300px;\"/>\n",
    "\n",
    "**Submission considerations:**\n",
    "- Submit your answers as floating point numbers with three digits after the decimal point\n",
    "- Example: To submit the value of 1/4 enter 0.250"
   ]
  },
  {
   "cell_type": "code",
   "execution_count": 134,
   "id": "342ca685",
   "metadata": {},
   "outputs": [
    {
     "name": "stdout",
     "output_type": "stream",
     "text": [
      "probability of landing on each side: [0.25, 0.25, 0.25, 0.25]\n",
      "Probability of obatining a 2 : 0.0624\n",
      "Probability of obatining a 3 : 0.119\n",
      "Probability of obatining a 5 : 0.2513\n"
     ]
    }
   ],
   "source": [
    "# You can use this cell for your calculations (not graded)\n",
    "dice_size = 4\n",
    "dice = np.array([i for i in range(1, dice_size+1)])\n",
    "\n",
    "probs = [1/(dice_size) for _ in range(dice_size)]\n",
    "\n",
    "print(f\"probability of landing on each side: {probs}\")\n",
    "\n",
    "num_roll = 10000\n",
    "\n",
    "roll_1 = np.array([np.random.choice(dice) for _ in range(num_roll) ])\n",
    "\n",
    "\n",
    "roll_2 = np.array([np.random.choice(dice) for _ in range(num_roll)])\n",
    "\n",
    "sum_of_throw = roll_1 + roll_2\n",
    "\n",
    "\n",
    "sum_is_2 = np.where(sum_of_throw == 2)\n",
    "\n",
    "sum_is_3 = np.where(sum_of_throw == 3)\n",
    "\n",
    "sum_is_4 = np.where(sum_of_throw == 4)\n",
    "\n",
    "sum_is_5 = np.where(sum_of_throw == 5)\n",
    "\n",
    "print(f'Probability of obatining a 2 : {len(sum_is_2[0]) / len(sum_of_throw)}')\n",
    "\n",
    "print(f'Probability of obatining a 3 : {len(sum_is_3[0]) / len(sum_of_throw)}')\n",
    "\n",
    "print(f'Probability of obatining a 5 : {len(sum_is_5[0]) / len(sum_of_throw)}')"
   ]
  },
  {
   "cell_type": "code",
   "execution_count": 112,
   "id": "e0a24beb",
   "metadata": {
    "scrolled": true
   },
   "outputs": [
    {
     "data": {
      "application/vnd.jupyter.widget-view+json": {
       "model_id": "159ebcb225474e89b63e87c47098de3d",
       "version_major": 2,
       "version_minor": 0
      },
      "text/plain": [
       "FloatText(value=0.0, description='P for sum=2|8', style=DescriptionStyle(description_width='initial'))"
      ]
     },
     "metadata": {},
     "output_type": "display_data"
    },
    {
     "data": {
      "application/vnd.jupyter.widget-view+json": {
       "model_id": "a659b69dfd354ed99a36db4996037aaa",
       "version_major": 2,
       "version_minor": 0
      },
      "text/plain": [
       "FloatText(value=0.0, description='P for sum=3|7:', style=DescriptionStyle(description_width='initial'))"
      ]
     },
     "metadata": {},
     "output_type": "display_data"
    },
    {
     "data": {
      "application/vnd.jupyter.widget-view+json": {
       "model_id": "cacadd9fa2b24a48a31eea49e796ee5c",
       "version_major": 2,
       "version_minor": 0
      },
      "text/plain": [
       "FloatText(value=0.0, description='P for sum=4|6:', style=DescriptionStyle(description_width='initial'))"
      ]
     },
     "metadata": {},
     "output_type": "display_data"
    },
    {
     "data": {
      "application/vnd.jupyter.widget-view+json": {
       "model_id": "baeb2fcd782f4326a956e04d82242e1f",
       "version_major": 2,
       "version_minor": 0
      },
      "text/plain": [
       "FloatText(value=0.0, description='P for sum=5:', style=DescriptionStyle(description_width='initial'))"
      ]
     },
     "metadata": {},
     "output_type": "display_data"
    },
    {
     "data": {
      "application/vnd.jupyter.widget-view+json": {
       "model_id": "e8d49245ce164f39ab6fd03557218bcd",
       "version_major": 2,
       "version_minor": 0
      },
      "text/plain": [
       "Button(button_style='success', description='Save your answer!', style=ButtonStyle())"
      ]
     },
     "metadata": {},
     "output_type": "display_data"
    },
    {
     "data": {
      "application/vnd.jupyter.widget-view+json": {
       "model_id": "ae43631e53364cf5b75839620f04776c",
       "version_major": 2,
       "version_minor": 0
      },
      "text/plain": [
       "Output()"
      ]
     },
     "metadata": {},
     "output_type": "display_data"
    }
   ],
   "source": [
    "# Run this cell to submit your answer\n",
    "utils.exercise_3()"
   ]
  },
  {
   "cell_type": "markdown",
   "id": "108837bd",
   "metadata": {},
   "source": [
    "## Exercise 4:\n",
    "\n",
    "Using the same scenario as in the previous exercise. Compute the mean and variance of the sum of the two throws  and the covariance between the first and the second throw:\n",
    "\n",
    "<img src=\"./images/4_sided_hist_no_prob.png\" style=\"height: 300px;\"/>\n",
    "\n",
    "\n",
    "Hints:\n",
    "- You can use [np.cov](https://numpy.org/doc/stable/reference/generated/numpy.cov.html) to compute the covariance of two numpy arrays (this may not be needed for this particular exercise)."
   ]
  },
  {
   "cell_type": "code",
   "execution_count": 119,
   "id": "f4eadc3c",
   "metadata": {},
   "outputs": [
    {
     "name": "stdout",
     "output_type": "stream",
     "text": [
      "4.9875\n",
      "2.4501437500000005\n",
      "[[ 1.24067918 -0.02079094]\n",
      " [-0.02079094  1.25129149]]\n"
     ]
    }
   ],
   "source": [
    "# You can use this cell for your calculations (not graded)\n",
    "print(np.mean(sum_of_throw))\n",
    "print(np.var(sum_of_throw))\n",
    "print(np.cov(roll_1, roll_2))\n"
   ]
  },
  {
   "cell_type": "code",
   "execution_count": 120,
   "id": "4e662b9b",
   "metadata": {},
   "outputs": [
    {
     "data": {
      "application/vnd.jupyter.widget-view+json": {
       "model_id": "5ad67d9cff244824b452869f87bf6687",
       "version_major": 2,
       "version_minor": 0
      },
      "text/plain": [
       "FloatText(value=0.0, description='Mean:')"
      ]
     },
     "metadata": {},
     "output_type": "display_data"
    },
    {
     "data": {
      "application/vnd.jupyter.widget-view+json": {
       "model_id": "6187a41102b742e0bd27e4bbed280d84",
       "version_major": 2,
       "version_minor": 0
      },
      "text/plain": [
       "FloatText(value=0.0, description='Variance:')"
      ]
     },
     "metadata": {},
     "output_type": "display_data"
    },
    {
     "data": {
      "application/vnd.jupyter.widget-view+json": {
       "model_id": "0f3dababe9cd457baee71140c2f969e8",
       "version_major": 2,
       "version_minor": 0
      },
      "text/plain": [
       "FloatText(value=0.0, description='Covariance:')"
      ]
     },
     "metadata": {},
     "output_type": "display_data"
    },
    {
     "data": {
      "application/vnd.jupyter.widget-view+json": {
       "model_id": "3ddcfff9d8c94876835a8d5768bad868",
       "version_major": 2,
       "version_minor": 0
      },
      "text/plain": [
       "Button(button_style='success', description='Save your answer!', style=ButtonStyle())"
      ]
     },
     "metadata": {},
     "output_type": "display_data"
    },
    {
     "data": {
      "application/vnd.jupyter.widget-view+json": {
       "model_id": "a8b2ba58669442f3b75d511dce2b62d3",
       "version_major": 2,
       "version_minor": 0
      },
      "text/plain": [
       "Output()"
      ]
     },
     "metadata": {},
     "output_type": "display_data"
    }
   ],
   "source": [
    "# Run this cell to submit your answer\n",
    "utils.exercise_4()"
   ]
  },
  {
   "cell_type": "markdown",
   "id": "714e099b",
   "metadata": {},
   "source": [
    "## Exercise 5:\n",
    "\n",
    "\n",
    "Now suppose you are have a loaded 4-sided dice (it is loaded so that it lands twice as often on side 2 compared to the other sides): \n",
    "\n",
    "\n",
    "<img src=\"./images/4_side_uf.png\" style=\"height: 300px;\"/>\n",
    "\n",
    "You are throwing it two times and recording the sum of each throw. Which of the following `probability mass functions` will be the one you should get?\n",
    "\n",
    "<table><tr>\n",
    "<td> <img src=\"./images/hist_sum_4_4l.png\" style=\"height: 300px;\"/> </td>\n",
    "<td> <img src=\"./images/hist_sum_4_3l.png\" style=\"height: 300px;\"/> </td>\n",
    "<td> <img src=\"./images/hist_sum_4_uf.png\" style=\"height: 300px;\"/> </td>\n",
    "</tr></table>"
   ]
  },
  {
   "cell_type": "markdown",
   "id": "ecb27c1b",
   "metadata": {},
   "source": [
    "Hints: \n",
    "- You can use the `p` parameter of [np.random.choice](https://numpy.org/doc/stable/reference/random/generated/numpy.random.choice.html) to simulate a loaded dice."
   ]
  },
  {
   "cell_type": "code",
   "execution_count": 152,
   "id": "a35573ec",
   "metadata": {},
   "outputs": [],
   "source": [
    "# You can use this cell for your calculations (not graded)\n",
    "\n",
    "def load_dice(num_size, loaded_side):\n",
    "    \n",
    "    #create an equal probabilities for each size, increase the size by 1 to accomodate the loaded size\n",
    "    probs = np.array([1/(num_size + 1)  for _ in range(num_size)])\n",
    "    \n",
    "    probs[loaded_side - 1] = 1 - sum(probs[: -1])\n",
    "    \n",
    "    if not np.isclose(sum(probs), 1):\n",
    "        print('Probability must be equal to 1')\n",
    "        return\n",
    "    \n",
    "    return probs"
   ]
  },
  {
   "cell_type": "code",
   "execution_count": 153,
   "id": "1d4d3a32",
   "metadata": {},
   "outputs": [],
   "source": [
    "# Get probabilities if dice is loaded towards side 2\n",
    "probs_loaded_dice = load_dice(dice_size , loaded_side=2)"
   ]
  },
  {
   "cell_type": "code",
   "execution_count": 159,
   "id": "80fe91bb",
   "metadata": {},
   "outputs": [],
   "source": [
    "\n",
    "num_roll = 10000\n",
    "\n",
    "roll_1 = np.array([np.random.choice(dice, p = probs_loaded_dice) for _ in range(num_roll)])\n",
    "\n",
    "roll_2 = np.array([np.random.choice(dice, p = probs_loaded_dice) for _ in range(num_roll)])\n",
    "\n",
    "sum_of_throw = roll_1 + roll_2\n"
   ]
  },
  {
   "cell_type": "code",
   "execution_count": 158,
   "id": "24517cce",
   "metadata": {},
   "outputs": [
    {
     "data": {
      "image/png": "[encoded data removed]",
      "text/plain": [
       "<Figure size 640x480 with 1 Axes>"
      ]
     },
     "metadata": {},
     "output_type": "display_data"
    }
   ],
   "source": [
    "# Plot histogram\n",
    "loaded_rolls_hist = sns.histplot(sum_of_throw, stat = \"probability\", discrete=True)\n",
    "loaded_rolls_hist.set(title=f\"Histogram of {num_roll} rolls (sum of rolling twice a loaded dice)\")\n",
    "loaded_rolls_hist.set_xticks(range(min(sum_of_throw),max(sum_of_throw)+1))\n",
    "plt.show()"
   ]
  },
  {
   "cell_type": "code",
   "execution_count": 160,
   "id": "3104e647",
   "metadata": {},
   "outputs": [
    {
     "data": {
      "application/vnd.jupyter.widget-view+json": {
       "model_id": "e478ceb677af427e82f6c536e4ddfb7a",
       "version_major": 2,
       "version_minor": 0
      },
      "text/plain": [
       "ToggleButtons(description='Your answer:', options=('left', 'center', 'right'), value='left')"
      ]
     },
     "metadata": {},
     "output_type": "display_data"
    },
    {
     "data": {
      "application/vnd.jupyter.widget-view+json": {
       "model_id": "2a252d1a4cad44398364c0add115360d",
       "version_major": 2,
       "version_minor": 0
      },
      "text/plain": [
       "Button(button_style='success', description='Save your answer!', style=ButtonStyle())"
      ]
     },
     "metadata": {},
     "output_type": "display_data"
    },
    {
     "data": {
      "application/vnd.jupyter.widget-view+json": {
       "model_id": "72d909e3aeb54a8a9caa22b5edc3b1c1",
       "version_major": 2,
       "version_minor": 0
      },
      "text/plain": [
       "Output()"
      ]
     },
     "metadata": {},
     "output_type": "display_data"
    }
   ],
   "source": [
    "# Run this cell to submit your answer\n",
    "utils.exercise_5()"
   ]
  },
  {
   "cell_type": "markdown",
   "id": "0d0f3429",
   "metadata": {},
   "source": [
    "## Exercise 6:\n",
    "\n",
    "You have a 6-sided dice that is loaded so that it lands twice as often on side 3 compared to the other sides:\n",
    "\n",
    "<img src=\"./images/loaded_6_side.png\" style=\"height: 300px;\"/>\n",
    "\n",
    "You record the sum of throwing it twice. What is the highest value (of the sum) that will yield a cumulative probability lower or equal to 0.5?\n",
    "\n",
    "<img src=\"./images/loaded_6_cdf.png\" style=\"height: 300px;\"/>\n",
    "\n",
    "Hints:\n",
    "- The probability of side 3 is equal to $\\frac{2}{7}$"
   ]
  },
  {
   "cell_type": "code",
   "execution_count": 179,
   "id": "10feaaa8",
   "metadata": {},
   "outputs": [
    {
     "name": "stdout",
     "output_type": "stream",
     "text": [
      "Probabilities must sum up to 1. Adjusting...\n"
     ]
    },
    {
     "data": {
      "image/png": "[encoded data removed]",
      "text/plain": [
       "<Figure size 800x500 with 1 Axes>"
      ]
     },
     "metadata": {},
     "output_type": "display_data"
    },
    {
     "name": "stdout",
     "output_type": "stream",
     "text": [
      "The highest sum value with a cumulative probability <= 0.5 is: 2\n"
     ]
    }
   ],
   "source": [
    "# You can use this cell for your calculations (not graded)\n",
    "\n",
    "# Get probabilities if dice is loaded towards side 3\n",
    "probs_loaded_dice = load_dice(num_size = 6, loaded_side=3)\n",
    "\n",
    "\n",
    "num_roll = 10000\n",
    "\n",
    "roll_1 = np.array([np.random.choice(dice, p = probs_loaded_dice) for _ in range(num_roll)])\n",
    "\n",
    "roll_2 = np.array([np.random.choice(dice, p = probs_loaded_dice) for _ in range(num_roll)])\n",
    "\n",
    "sum_of_throw = roll_1 + roll_2\n",
    "\n",
    "# Plot histogram of sum_of_throw\n",
    "plt.figure(figsize=(8, 5))\n",
    "plt.hist(sum_of_throw, bins=np.arange(2, 14), density=True, edgecolor='black', alpha=0.7)\n",
    "plt.title('Distribution of Sums of Two Throws (Loaded Dice)')\n",
    "plt.xlabel('Sum of Throws')\n",
    "plt.ylabel('Probability Density')\n",
    "plt.grid(axis='y', linestyle='--', alpha=0.7)\n",
    "\n",
    "# Calculate cumulative probabilities\n",
    "sum_counts, sum_bins = np.histogram(sum_of_throw, bins=np.arange(2, 14))\n",
    "cumulative_probs = np.cumsum(sum_counts) / num_roll\n",
    "\n",
    "# Find the highest sum value with cumulative probability <= 0.5\n",
    "highest_sum_under_0_5 = np.argmax(cumulative_probs <= 0.5) + 2  # +2 because bins start from 2\n",
    "\n",
    "plt.axvline(highest_sum_under_0_5, color='red', linestyle='--', label=f'Highest Sum <= 0.5 Cumulative Prob: {highest_sum_under_0_5}')\n",
    "plt.legend()\n",
    "\n",
    "plt.show()\n",
    "\n",
    "print(f\"The highest sum value with a cumulative probability <= 0.5 is: {highest_sum_under_0_5}\")\n"
   ]
  },
  {
   "cell_type": "code",
   "execution_count": 180,
   "id": "963e5763",
   "metadata": {},
   "outputs": [
    {
     "data": {
      "application/vnd.jupyter.widget-view+json": {
       "model_id": "ad9d3ac1a1ed46b4bc956bdd89309eeb",
       "version_major": 2,
       "version_minor": 0
      },
      "text/plain": [
       "IntSlider(value=2, continuous_update=False, description='Sum:', max=12, min=2)"
      ]
     },
     "metadata": {},
     "output_type": "display_data"
    },
    {
     "data": {
      "application/vnd.jupyter.widget-view+json": {
       "model_id": "c15a9b34ab0443a7aa43386651f42167",
       "version_major": 2,
       "version_minor": 0
      },
      "text/plain": [
       "Button(button_style='success', description='Save your answer!', style=ButtonStyle())"
      ]
     },
     "metadata": {},
     "output_type": "display_data"
    },
    {
     "data": {
      "application/vnd.jupyter.widget-view+json": {
       "model_id": "8ad7acb04cdf4d329ef7ba87e3281cec",
       "version_major": 2,
       "version_minor": 0
      },
      "text/plain": [
       "Output()"
      ]
     },
     "metadata": {},
     "output_type": "display_data"
    }
   ],
   "source": [
    "# Run this cell to submit your answer\n",
    "utils.exercise_6()"
   ]
  },
  {
   "cell_type": "markdown",
   "id": "f6684426",
   "metadata": {},
   "source": [
    "## Exercise 7:\n",
    "\n",
    "Given a 6-sided fair dice you try a new game. You only throw the dice a second time if the result of the first throw is **lower** or equal to 3. Which of the following `probability mass functions` will be the one you should get given this new constraint?\n",
    "\n",
    "<table><tr>\n",
    "<td> <img src=\"./images/6_sided_cond_green.png\" style=\"height: 250px;\"/> </td>\n",
    "<td> <img src=\"./images/6_sided_cond_blue.png\" style=\"height: 250px;\"/> </td>\n",
    "<td> <img src=\"./images/6_sided_cond_red.png\" style=\"height: 250px;\"/> </td>\n",
    "<td> <img src=\"./images/6_sided_cond_brown.png\" style=\"height: 250px;\"/> </td>\n",
    "\n",
    "</tr></table>\n",
    "\n",
    "Hints:\n",
    "- You can simulate the second throws as a numpy array and then make the values that met a certain criteria equal to 0 by using [np.where](https://numpy.org/doc/stable/reference/generated/numpy.where.html)"
   ]
  },
  {
   "cell_type": "code",
   "execution_count": 187,
   "id": "9e64d178",
   "metadata": {},
   "outputs": [
    {
     "data": {
      "image/png": "[encoded data removed]",
      "text/plain": [
       "<Figure size 640x480 with 1 Axes>"
      ]
     },
     "metadata": {},
     "output_type": "display_data"
    }
   ],
   "source": [
    "# You can use this cell for your calculations (not graded)\n",
    "dice_size = 6\n",
    "\n",
    "dice = np.array([ i for i in range(1, dice_size + 1)])\n",
    "\n",
    "num_roll = 50000\n",
    "\n",
    "roll_1 = np.array([np.random.choice(dice) for _ in range(num_roll)])\n",
    "\n",
    "roll_2 = np.array([np.random.choice(dice) for _ in range(num_roll)])\n",
    "\n",
    "# Preserve the result of the second throw only if the first roll was less than or equal to 3 else assign 0 to second roll\n",
    "roll_2 = np.where(roll_1 <= 3, roll_2, 0)\n",
    "\n",
    "sum_of_throw = roll_1 + roll_2\n",
    "\n",
    "# Plot histogram\n",
    "dependant_rolls_hist = sns.histplot(sum_of_throw, stat = \"probability\", discrete=True)\n",
    "dependant_rolls_hist.set(title=f\"Histogram of {num_roll} rolls (dependant sum of rolling twice)\")\n",
    "dependant_rolls_hist.set_xticks(range(min(sum_of_throw),max(sum_of_throw)+1))\n",
    "plt.show()\n"
   ]
  },
  {
   "cell_type": "code",
   "execution_count": 188,
   "id": "82a4db40",
   "metadata": {},
   "outputs": [
    {
     "data": {
      "application/vnd.jupyter.widget-view+json": {
       "model_id": "3414aaa95a6d4e3f81dbedd2da9e9ef2",
       "version_major": 2,
       "version_minor": 0
      },
      "text/plain": [
       "ToggleButtons(description='Your answer:', options=('left-most', 'left-center', 'right-center', 'right-most'), …"
      ]
     },
     "metadata": {},
     "output_type": "display_data"
    },
    {
     "data": {
      "application/vnd.jupyter.widget-view+json": {
       "model_id": "3c93da64d2a8420b9a9c156c4e3aa4de",
       "version_major": 2,
       "version_minor": 0
      },
      "text/plain": [
       "Button(button_style='success', description='Save your answer!', style=ButtonStyle())"
      ]
     },
     "metadata": {},
     "output_type": "display_data"
    },
    {
     "data": {
      "application/vnd.jupyter.widget-view+json": {
       "model_id": "b6887883a60c4fe488187d948e0f9042",
       "version_major": 2,
       "version_minor": 0
      },
      "text/plain": [
       "Output()"
      ]
     },
     "metadata": {},
     "output_type": "display_data"
    }
   ],
   "source": [
    "# Run this cell to submit your answer\n",
    "utils.exercise_7()"
   ]
  },
  {
   "cell_type": "markdown",
   "id": "ba973eaf",
   "metadata": {},
   "source": [
    "## Exercise 8:\n",
    "\n",
    "Given the same scenario as in the previous exercise but with the twist that you only throw the dice a second time if the result of the first throw is **greater** or equal to 3. Which of the following `probability mass functions` will be the one you should get given this new constraint?\n",
    "\n",
    "<table><tr>\n",
    "<td> <img src=\"./images/6_sided_cond_green2.png\" style=\"height: 250px;\"/> </td>\n",
    "<td> <img src=\"./images/6_sided_cond_blue2.png\" style=\"height: 250px;\"/> </td>\n",
    "<td> <img src=\"./images/6_sided_cond_red2.png\" style=\"height: 250px;\"/> </td>\n",
    "<td> <img src=\"./images/6_sided_cond_brown2.png\" style=\"height: 250px;\"/> </td>\n",
    "\n",
    "</tr></table>\n"
   ]
  },
  {
   "cell_type": "code",
   "execution_count": 189,
   "id": "4d25300f",
   "metadata": {},
   "outputs": [
    {
     "data": {
      "image/png": "[encoded data removed]",
      "text/plain": [
       "<Figure size 640x480 with 1 Axes>"
      ]
     },
     "metadata": {},
     "output_type": "display_data"
    }
   ],
   "source": [
    "# You can use this cell for your calculations (not graded)\n",
    "\n",
    "# You can use this cell for your calculations (not graded)\n",
    "dice_size = 6\n",
    "\n",
    "dice = np.array([ i for i in range(1, dice_size + 1)])\n",
    "\n",
    "num_roll = 50000\n",
    "\n",
    "roll_1 = np.array([np.random.choice(dice) for _ in range(num_roll)])\n",
    "\n",
    "roll_2 = np.array([np.random.choice(dice) for _ in range(num_roll)])\n",
    "\n",
    "# Preserve the result of the second throw only if the first roll was less than or equal to 3 else assign 0 to second roll\n",
    "roll_2 = np.where(roll_1 >= 3, roll_2, 0)\n",
    "\n",
    "sum_of_throw = roll_1 + roll_2\n",
    "\n",
    "# Plot histogram\n",
    "dependant_rolls_hist = sns.histplot(sum_of_throw, stat = \"probability\", discrete=True)\n",
    "dependant_rolls_hist.set(title=f\"Histogram of {num_roll} rolls (dependant sum of rolling twice)\")\n",
    "dependant_rolls_hist.set_xticks(range(min(sum_of_throw),max(sum_of_throw)+1))\n",
    "plt.show()\n"
   ]
  },
  {
   "cell_type": "code",
   "execution_count": 190,
   "id": "33bb9fd2",
   "metadata": {},
   "outputs": [
    {
     "data": {
      "application/vnd.jupyter.widget-view+json": {
       "model_id": "f17758deca7a4eb2b754b4c70a31ba0f",
       "version_major": 2,
       "version_minor": 0
      },
      "text/plain": [
       "ToggleButtons(description='Your answer:', options=('left-most', 'left-center', 'right-center', 'right-most'), …"
      ]
     },
     "metadata": {},
     "output_type": "display_data"
    },
    {
     "data": {
      "application/vnd.jupyter.widget-view+json": {
       "model_id": "be30ef6cc00543a68f0ce1fbe3bc7857",
       "version_major": 2,
       "version_minor": 0
      },
      "text/plain": [
       "Button(button_style='success', description='Save your answer!', style=ButtonStyle())"
      ]
     },
     "metadata": {},
     "output_type": "display_data"
    },
    {
     "data": {
      "application/vnd.jupyter.widget-view+json": {
       "model_id": "7c8da75a2f94499e9f88c5a6684723e9",
       "version_major": 2,
       "version_minor": 0
      },
      "text/plain": [
       "Output()"
      ]
     },
     "metadata": {},
     "output_type": "display_data"
    }
   ],
   "source": [
    "# Run this cell to submit your answer\n",
    "utils.exercise_8()"
   ]
  },
  {
   "cell_type": "markdown",
   "id": "017e9b22",
   "metadata": {},
   "source": [
    "## Exercise 9:\n",
    "\n",
    "Given a n-sided fair dice. You throw it twice and record the sum. How does increasing the number of sides `n` of the dice impact the mean and variance of the sum and the covariance of the joint distribution?"
   ]
  },
  {
   "cell_type": "code",
   "execution_count": 203,
   "id": "645a9b74",
   "metadata": {},
   "outputs": [
    {
     "name": "stdout",
     "output_type": "stream",
     "text": [
      "mean of 2 is 51.14\n",
      "variance of 2 is 413.43\n",
      "covariance of 2 is [[207.06187643  -1.53646437]\n",
      " [ -1.53646437 209.48565573]]\n",
      "mean of 3 is 51.14\n",
      "variance of 3 is 413.43\n",
      "covariance of 3 is [[207.06187643  -1.53646437]\n",
      " [ -1.53646437 209.48565573]]\n",
      "mean of 4 is 51.14\n",
      "variance of 4 is 413.43\n",
      "covariance of 4 is [[207.06187643  -1.53646437]\n",
      " [ -1.53646437 209.48565573]]\n",
      "mean of 5 is 51.14\n",
      "variance of 5 is 413.43\n",
      "covariance of 5 is [[207.06187643  -1.53646437]\n",
      " [ -1.53646437 209.48565573]]\n",
      "mean of 6 is 51.14\n",
      "variance of 6 is 413.43\n",
      "covariance of 6 is [[207.06187643  -1.53646437]\n",
      " [ -1.53646437 209.48565573]]\n",
      "mean of 7 is 51.14\n",
      "variance of 7 is 413.43\n",
      "covariance of 7 is [[207.06187643  -1.53646437]\n",
      " [ -1.53646437 209.48565573]]\n",
      "mean of 8 is 51.14\n",
      "variance of 8 is 413.43\n",
      "covariance of 8 is [[207.06187643  -1.53646437]\n",
      " [ -1.53646437 209.48565573]]\n",
      "mean of 9 is 51.14\n",
      "variance of 9 is 413.43\n",
      "covariance of 9 is [[207.06187643  -1.53646437]\n",
      " [ -1.53646437 209.48565573]]\n",
      "mean of 10 is 51.14\n",
      "variance of 10 is 413.43\n",
      "covariance of 10 is [[207.06187643  -1.53646437]\n",
      " [ -1.53646437 209.48565573]]\n",
      "mean of 11 is 51.14\n",
      "variance of 11 is 413.43\n",
      "covariance of 11 is [[207.06187643  -1.53646437]\n",
      " [ -1.53646437 209.48565573]]\n",
      "mean of 12 is 51.14\n",
      "variance of 12 is 413.43\n",
      "covariance of 12 is [[207.06187643  -1.53646437]\n",
      " [ -1.53646437 209.48565573]]\n",
      "mean of 13 is 51.14\n",
      "variance of 13 is 413.43\n",
      "covariance of 13 is [[207.06187643  -1.53646437]\n",
      " [ -1.53646437 209.48565573]]\n",
      "mean of 14 is 51.14\n",
      "variance of 14 is 413.43\n",
      "covariance of 14 is [[207.06187643  -1.53646437]\n",
      " [ -1.53646437 209.48565573]]\n",
      "mean of 15 is 51.14\n",
      "variance of 15 is 413.43\n",
      "covariance of 15 is [[207.06187643  -1.53646437]\n",
      " [ -1.53646437 209.48565573]]\n",
      "mean of 16 is 51.14\n",
      "variance of 16 is 413.43\n",
      "covariance of 16 is [[207.06187643  -1.53646437]\n",
      " [ -1.53646437 209.48565573]]\n",
      "mean of 17 is 51.14\n",
      "variance of 17 is 413.43\n",
      "covariance of 17 is [[207.06187643  -1.53646437]\n",
      " [ -1.53646437 209.48565573]]\n",
      "mean of 18 is 51.14\n",
      "variance of 18 is 413.43\n",
      "covariance of 18 is [[207.06187643  -1.53646437]\n",
      " [ -1.53646437 209.48565573]]\n",
      "mean of 19 is 51.14\n",
      "variance of 19 is 413.43\n",
      "covariance of 19 is [[207.06187643  -1.53646437]\n",
      " [ -1.53646437 209.48565573]]\n",
      "mean of 20 is 51.14\n",
      "variance of 20 is 413.43\n",
      "covariance of 20 is [[207.06187643  -1.53646437]\n",
      " [ -1.53646437 209.48565573]]\n",
      "mean of 21 is 51.14\n",
      "variance of 21 is 413.43\n",
      "covariance of 21 is [[207.06187643  -1.53646437]\n",
      " [ -1.53646437 209.48565573]]\n",
      "mean of 22 is 51.14\n",
      "variance of 22 is 413.43\n",
      "covariance of 22 is [[207.06187643  -1.53646437]\n",
      " [ -1.53646437 209.48565573]]\n",
      "mean of 23 is 51.14\n",
      "variance of 23 is 413.43\n",
      "covariance of 23 is [[207.06187643  -1.53646437]\n",
      " [ -1.53646437 209.48565573]]\n",
      "mean of 24 is 51.14\n",
      "variance of 24 is 413.43\n",
      "covariance of 24 is [[207.06187643  -1.53646437]\n",
      " [ -1.53646437 209.48565573]]\n",
      "mean of 25 is 51.14\n",
      "variance of 25 is 413.43\n",
      "covariance of 25 is [[207.06187643  -1.53646437]\n",
      " [ -1.53646437 209.48565573]]\n",
      "mean of 26 is 51.14\n",
      "variance of 26 is 413.43\n",
      "covariance of 26 is [[207.06187643  -1.53646437]\n",
      " [ -1.53646437 209.48565573]]\n",
      "mean of 27 is 51.14\n",
      "variance of 27 is 413.43\n",
      "covariance of 27 is [[207.06187643  -1.53646437]\n",
      " [ -1.53646437 209.48565573]]\n",
      "mean of 28 is 51.14\n",
      "variance of 28 is 413.43\n",
      "covariance of 28 is [[207.06187643  -1.53646437]\n",
      " [ -1.53646437 209.48565573]]\n",
      "mean of 29 is 51.14\n",
      "variance of 29 is 413.43\n",
      "covariance of 29 is [[207.06187643  -1.53646437]\n",
      " [ -1.53646437 209.48565573]]\n",
      "mean of 30 is 51.14\n",
      "variance of 30 is 413.43\n",
      "covariance of 30 is [[207.06187643  -1.53646437]\n",
      " [ -1.53646437 209.48565573]]\n",
      "mean of 31 is 51.14\n",
      "variance of 31 is 413.43\n",
      "covariance of 31 is [[207.06187643  -1.53646437]\n",
      " [ -1.53646437 209.48565573]]\n",
      "mean of 32 is 51.14\n",
      "variance of 32 is 413.43\n",
      "covariance of 32 is [[207.06187643  -1.53646437]\n",
      " [ -1.53646437 209.48565573]]\n",
      "mean of 33 is 51.14\n",
      "variance of 33 is 413.43\n",
      "covariance of 33 is [[207.06187643  -1.53646437]\n",
      " [ -1.53646437 209.48565573]]\n",
      "mean of 34 is 51.14\n",
      "variance of 34 is 413.43\n",
      "covariance of 34 is [[207.06187643  -1.53646437]\n",
      " [ -1.53646437 209.48565573]]\n",
      "mean of 35 is 51.14\n",
      "variance of 35 is 413.43\n",
      "covariance of 35 is [[207.06187643  -1.53646437]\n",
      " [ -1.53646437 209.48565573]]\n",
      "mean of 36 is 51.14\n",
      "variance of 36 is 413.43\n",
      "covariance of 36 is [[207.06187643  -1.53646437]\n",
      " [ -1.53646437 209.48565573]]\n",
      "mean of 37 is 51.14\n",
      "variance of 37 is 413.43\n",
      "covariance of 37 is [[207.06187643  -1.53646437]\n",
      " [ -1.53646437 209.48565573]]\n",
      "mean of 38 is 51.14\n",
      "variance of 38 is 413.43\n",
      "covariance of 38 is [[207.06187643  -1.53646437]\n",
      " [ -1.53646437 209.48565573]]\n",
      "mean of 39 is 51.14\n",
      "variance of 39 is 413.43\n",
      "covariance of 39 is [[207.06187643  -1.53646437]\n",
      " [ -1.53646437 209.48565573]]\n",
      "mean of 40 is 51.14\n",
      "variance of 40 is 413.43\n",
      "covariance of 40 is [[207.06187643  -1.53646437]\n",
      " [ -1.53646437 209.48565573]]\n",
      "mean of 41 is 51.14\n",
      "variance of 41 is 413.43\n",
      "covariance of 41 is [[207.06187643  -1.53646437]\n",
      " [ -1.53646437 209.48565573]]\n",
      "mean of 42 is 51.14\n",
      "variance of 42 is 413.43\n",
      "covariance of 42 is [[207.06187643  -1.53646437]\n",
      " [ -1.53646437 209.48565573]]\n",
      "mean of 43 is 51.14\n",
      "variance of 43 is 413.43\n",
      "covariance of 43 is [[207.06187643  -1.53646437]\n",
      " [ -1.53646437 209.48565573]]\n",
      "mean of 44 is 51.14\n",
      "variance of 44 is 413.43\n",
      "covariance of 44 is [[207.06187643  -1.53646437]\n",
      " [ -1.53646437 209.48565573]]\n",
      "mean of 45 is 51.14\n",
      "variance of 45 is 413.43\n",
      "covariance of 45 is [[207.06187643  -1.53646437]\n",
      " [ -1.53646437 209.48565573]]\n",
      "mean of 46 is 51.14\n",
      "variance of 46 is 413.43\n",
      "covariance of 46 is [[207.06187643  -1.53646437]\n",
      " [ -1.53646437 209.48565573]]\n",
      "mean of 47 is 51.14\n",
      "variance of 47 is 413.43\n",
      "covariance of 47 is [[207.06187643  -1.53646437]\n",
      " [ -1.53646437 209.48565573]]\n",
      "mean of 48 is 51.14\n",
      "variance of 48 is 413.43\n",
      "covariance of 48 is [[207.06187643  -1.53646437]\n",
      " [ -1.53646437 209.48565573]]\n",
      "mean of 49 is 51.14\n",
      "variance of 49 is 413.43\n",
      "covariance of 49 is [[207.06187643  -1.53646437]\n",
      " [ -1.53646437 209.48565573]]\n",
      "mean of 50 is 51.14\n",
      "variance of 50 is 413.43\n",
      "covariance of 50 is [[207.06187643  -1.53646437]\n",
      " [ -1.53646437 209.48565573]]\n"
     ]
    }
   ],
   "source": [
    "# You can use this cell for your calculations (not graded)\n",
    "dice_size = 50\n",
    "\n",
    "dice = np.array([ i for i in range(1, dice_size + 1)])\n",
    "\n",
    "num_roll = 10000\n",
    "\n",
    "roll_1 = np.array([np.random.choice(dice) for _ in range(num_roll)])\n",
    "\n",
    "roll_2 = np.array([np.random.choice(dice) for _ in range(num_roll)])\n",
    "\n",
    "\n",
    "sum_of_throw = roll_1 + roll_2\n",
    "count = 1\n",
    "for i in range(dice_size):\n",
    "    mean_sum = np.mean(sum_of_throw)\n",
    "    variance_sum = np.var(sum_of_throw)\n",
    "    covariance_sum = np.cov(roll_1, roll_2)\n",
    "    if i % count:\n",
    "        print(f\"mean of {i +1} is {mean_sum:.2f}\")\n",
    "        print(f\"variance of {i + 1} is {variance_sum:.2f}\")\n",
    "        print(f\"covariance of {i + 1} is {covariance_sum}\")\n",
    "    count += 1\n",
    "    \n"
   ]
  },
  {
   "cell_type": "code",
   "execution_count": 200,
   "id": "907412da",
   "metadata": {},
   "outputs": [
    {
     "name": "stdout",
     "output_type": "stream",
     "text": [
      "As the number of sides in the die increases:\n"
     ]
    },
    {
     "data": {
      "application/vnd.jupyter.widget-view+json": {
       "model_id": "f25cd6f54f08451bb79104f6ef23817b",
       "version_major": 2,
       "version_minor": 0
      },
      "text/plain": [
       "ToggleButtons(description='The mean of the sum:', options=('stays the same', 'increases', 'decreases'), value=…"
      ]
     },
     "metadata": {},
     "output_type": "display_data"
    },
    {
     "data": {
      "application/vnd.jupyter.widget-view+json": {
       "model_id": "3dedb2ab7a3245b7b510d44094a65ccb",
       "version_major": 2,
       "version_minor": 0
      },
      "text/plain": [
       "ToggleButtons(description='The variance of the sum:', options=('stays the same', 'increases', 'decreases'), va…"
      ]
     },
     "metadata": {},
     "output_type": "display_data"
    },
    {
     "data": {
      "application/vnd.jupyter.widget-view+json": {
       "model_id": "541652ff98f84a9391227e6e7ab07f7c",
       "version_major": 2,
       "version_minor": 0
      },
      "text/plain": [
       "ToggleButtons(description='The covariance of the joint distribution:', options=('stays the same', 'increases',…"
      ]
     },
     "metadata": {},
     "output_type": "display_data"
    },
    {
     "data": {
      "application/vnd.jupyter.widget-view+json": {
       "model_id": "02bcefe142bd433cb25aee7eba235f73",
       "version_major": 2,
       "version_minor": 0
      },
      "text/plain": [
       "Button(button_style='success', description='Save your answer!', style=ButtonStyle())"
      ]
     },
     "metadata": {},
     "output_type": "display_data"
    },
    {
     "data": {
      "application/vnd.jupyter.widget-view+json": {
       "model_id": "996f0786af56435ebd54305737233c31",
       "version_major": 2,
       "version_minor": 0
      },
      "text/plain": [
       "Output()"
      ]
     },
     "metadata": {},
     "output_type": "display_data"
    }
   ],
   "source": [
    "# Run this cell to submit your answer\n",
    "utils.exercise_9()"
   ]
  },
  {
   "cell_type": "markdown",
   "id": "fcf9b3ac",
   "metadata": {},
   "source": [
    "## Exercise 10:\n",
    "\n",
    "Given a 6-sided loaded dice. You throw it twice and record the sum. Which of the following statemets is true?"
   ]
  },
  {
   "cell_type": "code",
   "execution_count": 214,
   "id": "008c5858",
   "metadata": {},
   "outputs": [
    {
     "name": "stdout",
     "output_type": "stream",
     "text": [
      "Probabilities must sum up to 1. Adjusting...\n",
      "mean of 2 is 5.91\n",
      "variance of 2 is 12.10\n",
      "covariance of 2 is [[2.91108622 2.26718072]\n",
      " [2.26718072 4.65266527]]\n",
      "mean of 3 is 5.91\n",
      "variance of 3 is 12.10\n",
      "covariance of 3 is [[2.91108622 2.26718072]\n",
      " [2.26718072 4.65266527]]\n",
      "mean of 4 is 5.91\n",
      "variance of 4 is 12.10\n",
      "covariance of 4 is [[2.91108622 2.26718072]\n",
      " [2.26718072 4.65266527]]\n",
      "mean of 5 is 5.91\n",
      "variance of 5 is 12.10\n",
      "covariance of 5 is [[2.91108622 2.26718072]\n",
      " [2.26718072 4.65266527]]\n",
      "mean of 6 is 5.91\n",
      "variance of 6 is 12.10\n",
      "covariance of 6 is [[2.91108622 2.26718072]\n",
      " [2.26718072 4.65266527]]\n"
     ]
    }
   ],
   "source": [
    "# You can use this cell for your calculations (not graded)\n",
    "dice_size = 6\n",
    "\n",
    "dice = np.array([ i for i in range(1, dice_size + 1)])\n",
    "\n",
    "# Get probabilities if dice is loaded towards side 3\n",
    "probs_loaded_dice = load_dice(num_size = 6, loaded_side=4)\n",
    "\n",
    "num_roll = 10000\n",
    "\n",
    "roll_1 = np.array([np.random.choice(dice) for _ in range(num_roll)])\n",
    "\n",
    "roll_2 = np.array([np.random.choice(dice) for _ in range(num_roll)])\n",
    "\n",
    "# Preserve the result of the second throw only if the first roll was less than or equal to 3 else assign 0 to second roll\n",
    "roll_2 = np.where(roll_1 >= 3, roll_2, 0)\n",
    "\n",
    "sum_of_throw = roll_1 + roll_2\n",
    "\n",
    "count = 1\n",
    "for i in range(dice_size):\n",
    "    mean_sum = np.mean(sum_of_throw)\n",
    "    variance_sum = np.var(sum_of_throw)\n",
    "    covariance_sum = np.cov(roll_1, roll_2)\n",
    "    if i % count:\n",
    "        print(f\"mean of {i +1} is {mean_sum:.2f}\")\n",
    "        print(f\"variance of {i + 1} is {variance_sum:.2f}\")\n",
    "        print(f\"covariance of {i + 1} is {covariance_sum}\")\n",
    "    count += 1\n"
   ]
  },
  {
   "cell_type": "code",
   "execution_count": 204,
   "id": "99373567",
   "metadata": {},
   "outputs": [
    {
     "data": {
      "application/vnd.jupyter.widget-view+json": {
       "model_id": "ee451b13ef6d4228ac6fd2211ab2d6e6",
       "version_major": 2,
       "version_minor": 0
      },
      "text/plain": [
       "RadioButtons(layout=Layout(width='max-content'), options=('the mean and variance is the same regardless of whi…"
      ]
     },
     "metadata": {},
     "output_type": "display_data"
    },
    {
     "data": {
      "application/vnd.jupyter.widget-view+json": {
       "model_id": "6a85000d6dfe4c35af189671242ecd8c",
       "version_major": 2,
       "version_minor": 0
      },
      "text/plain": [
       "Button(button_style='success', description='Save your answer!', style=ButtonStyle())"
      ]
     },
     "metadata": {},
     "output_type": "display_data"
    },
    {
     "data": {
      "application/vnd.jupyter.widget-view+json": {
       "model_id": "4a5d5bc66a1e4c098bd565153354fe94",
       "version_major": 2,
       "version_minor": 0
      },
      "text/plain": [
       "Output()"
      ]
     },
     "metadata": {},
     "output_type": "display_data"
    }
   ],
   "source": [
    "# Run this cell to submit your answer\n",
    "utils.exercise_10()"
   ]
  },
  {
   "cell_type": "markdown",
   "id": "f8a1a8a3",
   "metadata": {},
   "source": [
    "## Exercise 11:\n",
    "\n",
    "Given a n-sided dice (could be fair or not). You throw it twice and record the sum (there is no dependance between the throws). If you are only given the histogram of the sums can you use it to know which are the probabilities of the dice landing on each side?\n",
    "\n",
    "In other words, if you are provided with only the histogram of the sums like this one:\n",
    "<td> <img src=\"./images/hist_sum_6_side.png\" style=\"height: 300px;\"/> </td>\n",
    "\n",
    "Could you use it to know the probabilities of the dice landing on each side? Which will be equivalent to finding this histogram:\n",
    "<img src=\"./images/fair_dice.png\" style=\"height: 300px;\"/>\n"
   ]
  },
  {
   "cell_type": "code",
   "execution_count": null,
   "id": "b42149cf",
   "metadata": {},
   "outputs": [],
   "source": [
    "# You can use this cell for your calculations (not graded)\n",
    "\n"
   ]
  },
  {
   "cell_type": "code",
   "execution_count": 215,
   "id": "33a2e4d9",
   "metadata": {},
   "outputs": [
    {
     "data": {
      "application/vnd.jupyter.widget-view+json": {
       "model_id": "f519ae37b8b04f71a9d0941bd866a1fe",
       "version_major": 2,
       "version_minor": 0
      },
      "text/plain": [
       "RadioButtons(layout=Layout(width='max-content'), options=('yes, but only if one of the sides is loaded', 'no, …"
      ]
     },
     "metadata": {},
     "output_type": "display_data"
    },
    {
     "data": {
      "application/vnd.jupyter.widget-view+json": {
       "model_id": "e3e71538726644c69c807a505f2b7014",
       "version_major": 2,
       "version_minor": 0
      },
      "text/plain": [
       "Button(button_style='success', description='Save your answer!', style=ButtonStyle())"
      ]
     },
     "metadata": {},
     "output_type": "display_data"
    },
    {
     "data": {
      "application/vnd.jupyter.widget-view+json": {
       "model_id": "ea81d3ea0ccf457c9e0e0989a11b21dc",
       "version_major": 2,
       "version_minor": 0
      },
      "text/plain": [
       "Output()"
      ]
     },
     "metadata": {},
     "output_type": "display_data"
    }
   ],
   "source": [
    "# Run this cell to submit your answer\n",
    "utils.exercise_11()"
   ]
  },
  {
   "cell_type": "markdown",
   "id": "1635ca7c",
   "metadata": {},
   "source": [
    "## Before Submitting Your Assignment\n",
    "\n",
    "Run the next cell to check that you have answered all of the exercises"
   ]
  },
  {
   "cell_type": "code",
   "execution_count": 216,
   "id": "c6822278",
   "metadata": {},
   "outputs": [
    {
     "name": "stdout",
     "output_type": "stream",
     "text": [
      "All answers saved, you can submit the assignment for grading!\n"
     ]
    }
   ],
   "source": [
    "utils.check_submissions()"
   ]
  },
  {
   "cell_type": "markdown",
   "id": "5286008f",
   "metadata": {},
   "source": [
    "**Congratulations on finishing this assignment!**\n",
    "\n",
    "During this assignment you tested your knowledge on probability distributions, descriptive statistics and visual interpretation of these concepts. You had the choice to compute everything analytically or create simulations to assist you get the right answer. You probably also realized that some exercises could be answered without any computations just by looking at certain hidden queues that the visualizations revealed.\n",
    "\n",
    "**Keep up the good work!**\n"
   ]
  }
 ],
 "metadata": {
  "kernelspec": {
   "display_name": "Python 3 (ipykernel)",
   "language": "python",
   "name": "python3"
  },
  "language_info": {
   "codemirror_mode": {
    "name": "ipython",
    "version": 3
   },
   "file_extension": ".py",
   "mimetype": "text/x-python",
   "name": "python",
   "nbconvert_exporter": "python",
   "pygments_lexer": "ipython3",
   "version": "3.10.11"
  }
 },
 "nbformat": 4,
 "nbformat_minor": 5
}
